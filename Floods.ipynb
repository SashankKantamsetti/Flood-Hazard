{
  "nbformat": 4,
  "nbformat_minor": 0,
  "metadata": {
    "colab": {
      "provenance": [],
      "toc_visible": true,
      "authorship_tag": "ABX9TyNksLil+z/evVf8kW9FB/Bv",
      "include_colab_link": true
    },
    "kernelspec": {
      "name": "python3",
      "display_name": "Python 3"
    },
    "language_info": {
      "name": "python"
    }
  },
  "cells": [
    {
      "cell_type": "markdown",
      "metadata": {
        "id": "view-in-github",
        "colab_type": "text"
      },
      "source": [
        "<a href=\"https://colab.research.google.com/github/SashankKantamsetti/Flood-Hazard/blob/main/Floods.ipynb\" target=\"_parent\"><img src=\"https://colab.research.google.com/assets/colab-badge.svg\" alt=\"Open In Colab\"/></a>"
      ]
    },
    {
      "cell_type": "code",
      "execution_count": null,
      "metadata": {
        "colab": {
          "base_uri": "https://localhost:8080/"
        },
        "id": "VHcte3sfZy_b",
        "outputId": "f029ba70-c5be-4d33-a2de-ee2c80e260e2"
      },
      "outputs": [
        {
          "output_type": "stream",
          "name": "stdout",
          "text": [
            "Drive already mounted at /content/drive; to attempt to forcibly remount, call drive.mount(\"/content/drive\", force_remount=True).\n",
            "Initial class distribution:\n",
            "flood\n",
            "0    40215\n",
            "1     9175\n",
            "Name: count, dtype: int64\n",
            "New class distribution after SMOTE:\n",
            "flood\n",
            "0    40215\n",
            "1    40215\n",
            "Name: count, dtype: int64\n",
            "Confusion Matrix:\n",
            "[[9905   84]\n",
            " [  46 2313]]\n",
            "\n",
            "Classification Report:\n",
            "              precision    recall  f1-score   support\n",
            "\n",
            "           0       1.00      0.99      0.99      9989\n",
            "           1       0.96      0.98      0.97      2359\n",
            "\n",
            "    accuracy                           0.99     12348\n",
            "   macro avg       0.98      0.99      0.98     12348\n",
            "weighted avg       0.99      0.99      0.99     12348\n",
            "\n",
            "Predicted probabilities saved to /content/drive/MyDrive/predicted_flood_probabilities.xlsx\n"
          ]
        }
      ],
      "source": [
        "import pandas as pd\n",
        "import numpy as np\n",
        "from sklearn.model_selection import train_test_split\n",
        "from sklearn.pipeline import Pipeline\n",
        "from sklearn.preprocessing import StandardScaler\n",
        "from imblearn.over_sampling import SMOTE\n",
        "import xgboost as xgb\n",
        "from sklearn.metrics import classification_report, confusion_matrix\n",
        "from google.colab import drive\n",
        "\n",
        "# Mount Google Drive\n",
        "drive.mount('/content/drive')\n",
        "\n",
        "# Load your dataset from Google Drive\n",
        "file_path = '/content/drive/MyDrive/cleaned_merged_file.xlsx'  # Replace with your actual file path\n",
        "data = pd.read_excel(file_path)\n",
        "\n",
        "# Separate features and target variable\n",
        "X = data.drop(columns=['flood'])  # Replace 'flood' with your target column name\n",
        "y = data['flood']\n",
        "\n",
        "# Split the data into training and testing sets\n",
        "X_train, X_test, y_train, y_test = train_test_split(X, y, test_size=0.2, random_state=42)\n",
        "\n",
        "# Check class distribution\n",
        "print(\"Initial class distribution:\")\n",
        "print(y_train.value_counts())\n",
        "\n",
        "# Apply SMOTE to balance the dataset\n",
        "smote = SMOTE(random_state=42)\n",
        "X_resampled, y_resampled = smote.fit_resample(X_train, y_train)\n",
        "\n",
        "# Check the new class distribution\n",
        "print(\"New class distribution after SMOTE:\")\n",
        "print(pd.Series(y_resampled).value_counts())\n",
        "\n",
        "# Calculate scale_pos_weight\n",
        "scale_pos_weight = len(y_resampled[y_resampled == 0]) / len(y_resampled[y_resampled == 1])\n",
        "\n",
        "# Define the model pipeline\n",
        "model_pipeline = Pipeline(steps=[\n",
        "    ('scaler', StandardScaler()),  # Optional: Scale your features\n",
        "    ('model', xgb.XGBClassifier(scale_pos_weight=scale_pos_weight, eval_metric='logloss'))\n",
        "])\n",
        "\n",
        "# Train the model\n",
        "model_pipeline.fit(X_resampled, y_resampled)\n",
        "\n",
        "# Get predictions on the test set\n",
        "y_pred = model_pipeline.predict(X_test)\n",
        "\n",
        "# Evaluate model performance\n",
        "print(\"Confusion Matrix:\")\n",
        "print(confusion_matrix(y_test, y_pred))\n",
        "\n",
        "print(\"\\nClassification Report:\")\n",
        "print(classification_report(y_test, y_pred))\n",
        "\n",
        "# Predict flood probabilities for rows where flood=0\n",
        "flood_zero_points = data[data['flood'] == 0].drop(columns=['flood'])  # Use the original data for flood=0\n",
        "predicted_probabilities = model_pipeline.predict_proba(flood_zero_points)\n",
        "\n",
        "# Add predictions to the dataframe\n",
        "predicted_df = pd.DataFrame(predicted_probabilities, columns=['probability_no_flood', 'probability_flood'])\n",
        "predicted_df['x_coordinate'] = flood_zero_points['x_cordinat']  # Adjust according to your column name\n",
        "predicted_df['y_coordinate'] = flood_zero_points['y_cordinat']  # Adjust according to your column name\n",
        "\n",
        "# Save the predictions to a new Excel file on Google Drive\n",
        "output_file_path = '/content/drive/MyDrive/predicted_flood_probabilities.xlsx'  # Path to save the output\n",
        "predicted_df.to_excel(output_file_path, index=False)\n",
        "\n",
        "print(f\"Predicted probabilities saved to {output_file_path}\")\n"
      ]
    }
  ]
}